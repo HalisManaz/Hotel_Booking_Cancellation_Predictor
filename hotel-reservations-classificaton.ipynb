{
 "cells": [
  {
   "cell_type": "markdown",
   "id": "12b53a2f",
   "metadata": {
    "papermill": {
     "duration": 0.010769,
     "end_time": "2023-07-08T20:51:46.600729",
     "exception": false,
     "start_time": "2023-07-08T20:51:46.589960",
     "status": "completed"
    },
    "tags": []
   },
   "source": [
    " # Hotel Reservations Classificaton"
   ]
  },
  {
   "cell_type": "markdown",
   "id": "9ac0d995",
   "metadata": {
    "papermill": {
     "duration": 0.008037,
     "end_time": "2023-07-08T20:51:46.617460",
     "exception": false,
     "start_time": "2023-07-08T20:51:46.609423",
     "status": "completed"
    },
    "tags": []
   },
   "source": [
    "## Business Understanding"
   ]
  },
  {
   "cell_type": "markdown",
   "id": "09137541",
   "metadata": {
    "papermill": {
     "duration": 0.00809,
     "end_time": "2023-07-08T20:51:46.633975",
     "exception": false,
     "start_time": "2023-07-08T20:51:46.625885",
     "status": "completed"
    },
    "tags": []
   },
   "source": [
    "### Summary"
   ]
  },
  {
   "cell_type": "markdown",
   "id": "5cefbf85",
   "metadata": {
    "papermill": {
     "duration": 0.008421,
     "end_time": "2023-07-08T20:51:46.651194",
     "exception": false,
     "start_time": "2023-07-08T20:51:46.642773",
     "status": "completed"
    },
    "tags": []
   },
   "source": [
    "**Goal**: The primary objective is to **predict hotel booking cancellations** to mitigate revenue loss due to unoccupied rooms.\n",
    "\n",
    "**Data**: Our dataset contains detailed information about hotel bookings, including customer specifics and whether the booking was cancelled or not.\n",
    "\n",
    "**Model**: We aim to develop a **binary classification model** that can predict future booking cancellations accurately.\n",
    "\n",
    "**Business Value**: This model can enable hotel management to identify potential cancellations early. The benefits include improved room occupancy rates, optimized revenue, and enhanced customer satisfaction."
   ]
  },
  {
   "cell_type": "markdown",
   "id": "b43fb2e7",
   "metadata": {
    "papermill": {
     "duration": 0.008137,
     "end_time": "2023-07-08T20:51:46.667983",
     "exception": false,
     "start_time": "2023-07-08T20:51:46.659846",
     "status": "completed"
    },
    "tags": []
   },
   "source": [
    "### Success Metrics"
   ]
  },
  {
   "cell_type": "markdown",
   "id": "2a34ff69",
   "metadata": {
    "papermill": {
     "duration": 0.008139,
     "end_time": "2023-07-08T20:51:46.684568",
     "exception": false,
     "start_time": "2023-07-08T20:51:46.676429",
     "status": "completed"
    },
    "tags": []
   },
   "source": [
    "The success of our model will be evaluated based on its predictive performance. In particular, we will use the following metrics:\n",
    "\n",
    "**Accuracy:** This is the most intuitive performance measure. It is simply the ratio of correctly predicted observations to the total observations.\n",
    "\n",
    "**Precision:** Precision looks at the ratio of correct positive observations to the total predicted positives. It is a measure of a classifier's exactness. Low precision indicates a high number of false positives.\n",
    "\n",
    "**Recall (Sensitivity):** Recall is the ratio of correct positive observations to the all observations in actual class. It is a measure of a classifier's completeness. Low recall indicates a high number of false negatives.\n",
    "\n",
    "**F1 Score:** The F1 Score is the weighted average of Precision and Recall. This score tries to balance both precision and recall. It is suitable for uneven class distribution problems."
   ]
  },
  {
   "cell_type": "markdown",
   "id": "4bd1cdbb",
   "metadata": {
    "papermill": {
     "duration": 0.007969,
     "end_time": "2023-07-08T20:51:46.700855",
     "exception": false,
     "start_time": "2023-07-08T20:51:46.692886",
     "status": "completed"
    },
    "tags": []
   },
   "source": [
    "*The exact importance of these metrics will depend on the business context. For instance, if the cost of falsely predicting that a booking will not be cancelled (a false negative) is high (e.g., due to lost revenue from not being able to fill the room), then we might want to prioritize Recall. Alternatively, if the cost of falsely predicting that a booking will be cancelled (a false positive) is high (e.g., due to lost customer goodwill from overbooking), then we might want to prioritize Precision.*"
   ]
  },
  {
   "cell_type": "markdown",
   "id": "cafa2d8e",
   "metadata": {
    "papermill": {
     "duration": 0.007974,
     "end_time": "2023-07-08T20:51:46.717290",
     "exception": false,
     "start_time": "2023-07-08T20:51:46.709316",
     "status": "completed"
    },
    "tags": []
   },
   "source": [
    "## Data Understanding"
   ]
  },
  {
   "cell_type": "markdown",
   "id": "33fb426c",
   "metadata": {
    "papermill": {
     "duration": 0.008019,
     "end_time": "2023-07-08T20:51:46.733693",
     "exception": false,
     "start_time": "2023-07-08T20:51:46.725674",
     "status": "completed"
    },
    "tags": []
   },
   "source": [
    "### Load necessary libraries"
   ]
  },
  {
   "cell_type": "code",
   "execution_count": 1,
   "id": "8fb6ac6b",
   "metadata": {
    "execution": {
     "iopub.execute_input": "2023-07-08T20:51:46.753111Z",
     "iopub.status.busy": "2023-07-08T20:51:46.752244Z",
     "iopub.status.idle": "2023-07-08T20:51:48.614930Z",
     "shell.execute_reply": "2023-07-08T20:51:48.613761Z"
    },
    "papermill": {
     "duration": 1.875762,
     "end_time": "2023-07-08T20:51:48.617873",
     "exception": false,
     "start_time": "2023-07-08T20:51:46.742111",
     "status": "completed"
    },
    "tags": []
   },
   "outputs": [],
   "source": [
    "# Required Libraries\n",
    "import pandas as pd\n",
    "from sklearn.model_selection import train_test_split\n",
    "from sklearn.preprocessing import LabelEncoder\n",
    "from sklearn.linear_model import LogisticRegression\n",
    "from sklearn.ensemble import RandomForestClassifier\n",
    "from xgboost import XGBClassifier\n",
    "from sklearn.metrics import accuracy_score, precision_score, recall_score, f1_score, confusion_matrix, roc_auc_score, roc_curve, auc\n",
    "from sklearn.exceptions import ConvergenceWarning\n",
    "import matplotlib.pyplot as plt\n",
    "from scipy.stats import uniform, randint\n",
    "from sklearn.model_selection import GridSearchCV\n",
    "import warnings\n",
    "\n",
    "warnings.filterwarnings(\"ignore\", category=DeprecationWarning)\n",
    "warnings.filterwarnings(\"ignore\", category=ConvergenceWarning)\n",
    "warnings.filterwarnings(\"ignore\", category=UserWarning)"
   ]
  },
  {
   "cell_type": "markdown",
   "id": "7a2fb052",
   "metadata": {
    "papermill": {
     "duration": 0.008137,
     "end_time": "2023-07-08T20:51:48.634706",
     "exception": false,
     "start_time": "2023-07-08T20:51:48.626569",
     "status": "completed"
    },
    "tags": []
   },
   "source": [
    "### Load dataset"
   ]
  },
  {
   "cell_type": "code",
   "execution_count": 2,
   "id": "653922a4",
   "metadata": {
    "execution": {
     "iopub.execute_input": "2023-07-08T20:51:48.653678Z",
     "iopub.status.busy": "2023-07-08T20:51:48.653261Z",
     "iopub.status.idle": "2023-07-08T20:51:48.808566Z",
     "shell.execute_reply": "2023-07-08T20:51:48.807597Z"
    },
    "papermill": {
     "duration": 0.168019,
     "end_time": "2023-07-08T20:51:48.811096",
     "exception": false,
     "start_time": "2023-07-08T20:51:48.643077",
     "status": "completed"
    },
    "tags": []
   },
   "outputs": [],
   "source": [
    "df = pd.read_csv(\"/kaggle/input/hotel-reservations-classification-dataset/Hotel Reservations.csv\")"
   ]
  },
  {
   "cell_type": "markdown",
   "id": "71bb6f68",
   "metadata": {
    "papermill": {
     "duration": 0.008033,
     "end_time": "2023-07-08T20:51:48.827734",
     "exception": false,
     "start_time": "2023-07-08T20:51:48.819701",
     "status": "completed"
    },
    "tags": []
   },
   "source": [
    "### Explore data"
   ]
  },
  {
   "cell_type": "code",
   "execution_count": 3,
   "id": "dae67425",
   "metadata": {
    "execution": {
     "iopub.execute_input": "2023-07-08T20:51:48.846600Z",
     "iopub.status.busy": "2023-07-08T20:51:48.845704Z",
     "iopub.status.idle": "2023-07-08T20:51:48.884084Z",
     "shell.execute_reply": "2023-07-08T20:51:48.882931Z"
    },
    "papermill": {
     "duration": 0.050129,
     "end_time": "2023-07-08T20:51:48.886220",
     "exception": false,
     "start_time": "2023-07-08T20:51:48.836091",
     "status": "completed"
    },
    "tags": []
   },
   "outputs": [
    {
     "data": {
      "text/html": [
       "<div>\n",
       "<style scoped>\n",
       "    .dataframe tbody tr th:only-of-type {\n",
       "        vertical-align: middle;\n",
       "    }\n",
       "\n",
       "    .dataframe tbody tr th {\n",
       "        vertical-align: top;\n",
       "    }\n",
       "\n",
       "    .dataframe thead th {\n",
       "        text-align: right;\n",
       "    }\n",
       "</style>\n",
       "<table border=\"1\" class=\"dataframe\">\n",
       "  <thead>\n",
       "    <tr style=\"text-align: right;\">\n",
       "      <th></th>\n",
       "      <th>Booking_ID</th>\n",
       "      <th>no_of_adults</th>\n",
       "      <th>no_of_children</th>\n",
       "      <th>no_of_weekend_nights</th>\n",
       "      <th>no_of_week_nights</th>\n",
       "      <th>type_of_meal_plan</th>\n",
       "      <th>required_car_parking_space</th>\n",
       "      <th>room_type_reserved</th>\n",
       "      <th>lead_time</th>\n",
       "      <th>arrival_year</th>\n",
       "      <th>arrival_month</th>\n",
       "      <th>arrival_date</th>\n",
       "      <th>market_segment_type</th>\n",
       "      <th>repeated_guest</th>\n",
       "      <th>no_of_previous_cancellations</th>\n",
       "      <th>no_of_previous_bookings_not_canceled</th>\n",
       "      <th>avg_price_per_room</th>\n",
       "      <th>no_of_special_requests</th>\n",
       "      <th>booking_status</th>\n",
       "    </tr>\n",
       "  </thead>\n",
       "  <tbody>\n",
       "    <tr>\n",
       "      <th>0</th>\n",
       "      <td>INN00001</td>\n",
       "      <td>2</td>\n",
       "      <td>0</td>\n",
       "      <td>1</td>\n",
       "      <td>2</td>\n",
       "      <td>Meal Plan 1</td>\n",
       "      <td>0</td>\n",
       "      <td>Room_Type 1</td>\n",
       "      <td>224</td>\n",
       "      <td>2017</td>\n",
       "      <td>10</td>\n",
       "      <td>2</td>\n",
       "      <td>Offline</td>\n",
       "      <td>0</td>\n",
       "      <td>0</td>\n",
       "      <td>0</td>\n",
       "      <td>65.00</td>\n",
       "      <td>0</td>\n",
       "      <td>Not_Canceled</td>\n",
       "    </tr>\n",
       "    <tr>\n",
       "      <th>1</th>\n",
       "      <td>INN00002</td>\n",
       "      <td>2</td>\n",
       "      <td>0</td>\n",
       "      <td>2</td>\n",
       "      <td>3</td>\n",
       "      <td>Not Selected</td>\n",
       "      <td>0</td>\n",
       "      <td>Room_Type 1</td>\n",
       "      <td>5</td>\n",
       "      <td>2018</td>\n",
       "      <td>11</td>\n",
       "      <td>6</td>\n",
       "      <td>Online</td>\n",
       "      <td>0</td>\n",
       "      <td>0</td>\n",
       "      <td>0</td>\n",
       "      <td>106.68</td>\n",
       "      <td>1</td>\n",
       "      <td>Not_Canceled</td>\n",
       "    </tr>\n",
       "    <tr>\n",
       "      <th>2</th>\n",
       "      <td>INN00003</td>\n",
       "      <td>1</td>\n",
       "      <td>0</td>\n",
       "      <td>2</td>\n",
       "      <td>1</td>\n",
       "      <td>Meal Plan 1</td>\n",
       "      <td>0</td>\n",
       "      <td>Room_Type 1</td>\n",
       "      <td>1</td>\n",
       "      <td>2018</td>\n",
       "      <td>2</td>\n",
       "      <td>28</td>\n",
       "      <td>Online</td>\n",
       "      <td>0</td>\n",
       "      <td>0</td>\n",
       "      <td>0</td>\n",
       "      <td>60.00</td>\n",
       "      <td>0</td>\n",
       "      <td>Canceled</td>\n",
       "    </tr>\n",
       "    <tr>\n",
       "      <th>3</th>\n",
       "      <td>INN00004</td>\n",
       "      <td>2</td>\n",
       "      <td>0</td>\n",
       "      <td>0</td>\n",
       "      <td>2</td>\n",
       "      <td>Meal Plan 1</td>\n",
       "      <td>0</td>\n",
       "      <td>Room_Type 1</td>\n",
       "      <td>211</td>\n",
       "      <td>2018</td>\n",
       "      <td>5</td>\n",
       "      <td>20</td>\n",
       "      <td>Online</td>\n",
       "      <td>0</td>\n",
       "      <td>0</td>\n",
       "      <td>0</td>\n",
       "      <td>100.00</td>\n",
       "      <td>0</td>\n",
       "      <td>Canceled</td>\n",
       "    </tr>\n",
       "    <tr>\n",
       "      <th>4</th>\n",
       "      <td>INN00005</td>\n",
       "      <td>2</td>\n",
       "      <td>0</td>\n",
       "      <td>1</td>\n",
       "      <td>1</td>\n",
       "      <td>Not Selected</td>\n",
       "      <td>0</td>\n",
       "      <td>Room_Type 1</td>\n",
       "      <td>48</td>\n",
       "      <td>2018</td>\n",
       "      <td>4</td>\n",
       "      <td>11</td>\n",
       "      <td>Online</td>\n",
       "      <td>0</td>\n",
       "      <td>0</td>\n",
       "      <td>0</td>\n",
       "      <td>94.50</td>\n",
       "      <td>0</td>\n",
       "      <td>Canceled</td>\n",
       "    </tr>\n",
       "    <tr>\n",
       "      <th>5</th>\n",
       "      <td>INN00006</td>\n",
       "      <td>2</td>\n",
       "      <td>0</td>\n",
       "      <td>0</td>\n",
       "      <td>2</td>\n",
       "      <td>Meal Plan 2</td>\n",
       "      <td>0</td>\n",
       "      <td>Room_Type 1</td>\n",
       "      <td>346</td>\n",
       "      <td>2018</td>\n",
       "      <td>9</td>\n",
       "      <td>13</td>\n",
       "      <td>Online</td>\n",
       "      <td>0</td>\n",
       "      <td>0</td>\n",
       "      <td>0</td>\n",
       "      <td>115.00</td>\n",
       "      <td>1</td>\n",
       "      <td>Canceled</td>\n",
       "    </tr>\n",
       "    <tr>\n",
       "      <th>6</th>\n",
       "      <td>INN00007</td>\n",
       "      <td>2</td>\n",
       "      <td>0</td>\n",
       "      <td>1</td>\n",
       "      <td>3</td>\n",
       "      <td>Meal Plan 1</td>\n",
       "      <td>0</td>\n",
       "      <td>Room_Type 1</td>\n",
       "      <td>34</td>\n",
       "      <td>2017</td>\n",
       "      <td>10</td>\n",
       "      <td>15</td>\n",
       "      <td>Online</td>\n",
       "      <td>0</td>\n",
       "      <td>0</td>\n",
       "      <td>0</td>\n",
       "      <td>107.55</td>\n",
       "      <td>1</td>\n",
       "      <td>Not_Canceled</td>\n",
       "    </tr>\n",
       "    <tr>\n",
       "      <th>7</th>\n",
       "      <td>INN00008</td>\n",
       "      <td>2</td>\n",
       "      <td>0</td>\n",
       "      <td>1</td>\n",
       "      <td>3</td>\n",
       "      <td>Meal Plan 1</td>\n",
       "      <td>0</td>\n",
       "      <td>Room_Type 4</td>\n",
       "      <td>83</td>\n",
       "      <td>2018</td>\n",
       "      <td>12</td>\n",
       "      <td>26</td>\n",
       "      <td>Online</td>\n",
       "      <td>0</td>\n",
       "      <td>0</td>\n",
       "      <td>0</td>\n",
       "      <td>105.61</td>\n",
       "      <td>1</td>\n",
       "      <td>Not_Canceled</td>\n",
       "    </tr>\n",
       "    <tr>\n",
       "      <th>8</th>\n",
       "      <td>INN00009</td>\n",
       "      <td>3</td>\n",
       "      <td>0</td>\n",
       "      <td>0</td>\n",
       "      <td>4</td>\n",
       "      <td>Meal Plan 1</td>\n",
       "      <td>0</td>\n",
       "      <td>Room_Type 1</td>\n",
       "      <td>121</td>\n",
       "      <td>2018</td>\n",
       "      <td>7</td>\n",
       "      <td>6</td>\n",
       "      <td>Offline</td>\n",
       "      <td>0</td>\n",
       "      <td>0</td>\n",
       "      <td>0</td>\n",
       "      <td>96.90</td>\n",
       "      <td>1</td>\n",
       "      <td>Not_Canceled</td>\n",
       "    </tr>\n",
       "    <tr>\n",
       "      <th>9</th>\n",
       "      <td>INN00010</td>\n",
       "      <td>2</td>\n",
       "      <td>0</td>\n",
       "      <td>0</td>\n",
       "      <td>5</td>\n",
       "      <td>Meal Plan 1</td>\n",
       "      <td>0</td>\n",
       "      <td>Room_Type 4</td>\n",
       "      <td>44</td>\n",
       "      <td>2018</td>\n",
       "      <td>10</td>\n",
       "      <td>18</td>\n",
       "      <td>Online</td>\n",
       "      <td>0</td>\n",
       "      <td>0</td>\n",
       "      <td>0</td>\n",
       "      <td>133.44</td>\n",
       "      <td>3</td>\n",
       "      <td>Not_Canceled</td>\n",
       "    </tr>\n",
       "  </tbody>\n",
       "</table>\n",
       "</div>"
      ],
      "text/plain": [
       "  Booking_ID  no_of_adults  no_of_children  no_of_weekend_nights  \\\n",
       "0   INN00001             2               0                     1   \n",
       "1   INN00002             2               0                     2   \n",
       "2   INN00003             1               0                     2   \n",
       "3   INN00004             2               0                     0   \n",
       "4   INN00005             2               0                     1   \n",
       "5   INN00006             2               0                     0   \n",
       "6   INN00007             2               0                     1   \n",
       "7   INN00008             2               0                     1   \n",
       "8   INN00009             3               0                     0   \n",
       "9   INN00010             2               0                     0   \n",
       "\n",
       "   no_of_week_nights type_of_meal_plan  required_car_parking_space  \\\n",
       "0                  2       Meal Plan 1                           0   \n",
       "1                  3      Not Selected                           0   \n",
       "2                  1       Meal Plan 1                           0   \n",
       "3                  2       Meal Plan 1                           0   \n",
       "4                  1      Not Selected                           0   \n",
       "5                  2       Meal Plan 2                           0   \n",
       "6                  3       Meal Plan 1                           0   \n",
       "7                  3       Meal Plan 1                           0   \n",
       "8                  4       Meal Plan 1                           0   \n",
       "9                  5       Meal Plan 1                           0   \n",
       "\n",
       "  room_type_reserved  lead_time  arrival_year  arrival_month  arrival_date  \\\n",
       "0        Room_Type 1        224          2017             10             2   \n",
       "1        Room_Type 1          5          2018             11             6   \n",
       "2        Room_Type 1          1          2018              2            28   \n",
       "3        Room_Type 1        211          2018              5            20   \n",
       "4        Room_Type 1         48          2018              4            11   \n",
       "5        Room_Type 1        346          2018              9            13   \n",
       "6        Room_Type 1         34          2017             10            15   \n",
       "7        Room_Type 4         83          2018             12            26   \n",
       "8        Room_Type 1        121          2018              7             6   \n",
       "9        Room_Type 4         44          2018             10            18   \n",
       "\n",
       "  market_segment_type  repeated_guest  no_of_previous_cancellations  \\\n",
       "0             Offline               0                             0   \n",
       "1              Online               0                             0   \n",
       "2              Online               0                             0   \n",
       "3              Online               0                             0   \n",
       "4              Online               0                             0   \n",
       "5              Online               0                             0   \n",
       "6              Online               0                             0   \n",
       "7              Online               0                             0   \n",
       "8             Offline               0                             0   \n",
       "9              Online               0                             0   \n",
       "\n",
       "   no_of_previous_bookings_not_canceled  avg_price_per_room  \\\n",
       "0                                     0               65.00   \n",
       "1                                     0              106.68   \n",
       "2                                     0               60.00   \n",
       "3                                     0              100.00   \n",
       "4                                     0               94.50   \n",
       "5                                     0              115.00   \n",
       "6                                     0              107.55   \n",
       "7                                     0              105.61   \n",
       "8                                     0               96.90   \n",
       "9                                     0              133.44   \n",
       "\n",
       "   no_of_special_requests booking_status  \n",
       "0                       0   Not_Canceled  \n",
       "1                       1   Not_Canceled  \n",
       "2                       0       Canceled  \n",
       "3                       0       Canceled  \n",
       "4                       0       Canceled  \n",
       "5                       1       Canceled  \n",
       "6                       1   Not_Canceled  \n",
       "7                       1   Not_Canceled  \n",
       "8                       1   Not_Canceled  \n",
       "9                       3   Not_Canceled  "
      ]
     },
     "execution_count": 3,
     "metadata": {},
     "output_type": "execute_result"
    }
   ],
   "source": [
    "df.head(10)  # Display the first few rows to understand the data"
   ]
  },
  {
   "cell_type": "code",
   "execution_count": 4,
   "id": "c3447e22",
   "metadata": {
    "execution": {
     "iopub.execute_input": "2023-07-08T20:51:48.905782Z",
     "iopub.status.busy": "2023-07-08T20:51:48.905369Z",
     "iopub.status.idle": "2023-07-08T20:51:48.911485Z",
     "shell.execute_reply": "2023-07-08T20:51:48.910396Z"
    },
    "papermill": {
     "duration": 0.018578,
     "end_time": "2023-07-08T20:51:48.913793",
     "exception": false,
     "start_time": "2023-07-08T20:51:48.895215",
     "status": "completed"
    },
    "tags": []
   },
   "outputs": [
    {
     "name": "stdout",
     "output_type": "stream",
     "text": [
      "1 no_of_adults\n",
      "2 no_of_children\n",
      "3 no_of_weekend_nights\n",
      "4 no_of_week_nights\n",
      "5 type_of_meal_plan\n",
      "6 required_car_parking_space\n",
      "7 room_type_reserved\n",
      "8 lead_time\n",
      "9 arrival_year\n",
      "10 arrival_month\n",
      "11 arrival_date\n",
      "12 market_segment_type\n",
      "13 repeated_guest\n",
      "14 no_of_previous_cancellations\n",
      "15 no_of_previous_bookings_not_canceled\n",
      "16 avg_price_per_room\n",
      "17 no_of_special_requests\n",
      "18 booking_status\n"
     ]
    }
   ],
   "source": [
    "for i in range(1,len(df.columns)):\n",
    "    print(i, df.columns[i])"
   ]
  },
  {
   "cell_type": "code",
   "execution_count": 5,
   "id": "d86962a8",
   "metadata": {
    "execution": {
     "iopub.execute_input": "2023-07-08T20:51:48.933657Z",
     "iopub.status.busy": "2023-07-08T20:51:48.933253Z",
     "iopub.status.idle": "2023-07-08T20:51:49.020229Z",
     "shell.execute_reply": "2023-07-08T20:51:49.019056Z"
    },
    "papermill": {
     "duration": 0.09965,
     "end_time": "2023-07-08T20:51:49.022527",
     "exception": false,
     "start_time": "2023-07-08T20:51:48.922877",
     "status": "completed"
    },
    "tags": []
   },
   "outputs": [
    {
     "data": {
      "text/html": [
       "<div>\n",
       "<style scoped>\n",
       "    .dataframe tbody tr th:only-of-type {\n",
       "        vertical-align: middle;\n",
       "    }\n",
       "\n",
       "    .dataframe tbody tr th {\n",
       "        vertical-align: top;\n",
       "    }\n",
       "\n",
       "    .dataframe thead th {\n",
       "        text-align: right;\n",
       "    }\n",
       "</style>\n",
       "<table border=\"1\" class=\"dataframe\">\n",
       "  <thead>\n",
       "    <tr style=\"text-align: right;\">\n",
       "      <th></th>\n",
       "      <th>no_of_adults</th>\n",
       "      <th>no_of_children</th>\n",
       "      <th>no_of_weekend_nights</th>\n",
       "      <th>no_of_week_nights</th>\n",
       "      <th>required_car_parking_space</th>\n",
       "      <th>lead_time</th>\n",
       "      <th>arrival_year</th>\n",
       "      <th>arrival_month</th>\n",
       "      <th>arrival_date</th>\n",
       "      <th>repeated_guest</th>\n",
       "      <th>no_of_previous_cancellations</th>\n",
       "      <th>no_of_previous_bookings_not_canceled</th>\n",
       "      <th>avg_price_per_room</th>\n",
       "      <th>no_of_special_requests</th>\n",
       "    </tr>\n",
       "  </thead>\n",
       "  <tbody>\n",
       "    <tr>\n",
       "      <th>count</th>\n",
       "      <td>36275.000000</td>\n",
       "      <td>36275.000000</td>\n",
       "      <td>36275.000000</td>\n",
       "      <td>36275.000000</td>\n",
       "      <td>36275.000000</td>\n",
       "      <td>36275.000000</td>\n",
       "      <td>36275.000000</td>\n",
       "      <td>36275.000000</td>\n",
       "      <td>36275.000000</td>\n",
       "      <td>36275.000000</td>\n",
       "      <td>36275.000000</td>\n",
       "      <td>36275.000000</td>\n",
       "      <td>36275.000000</td>\n",
       "      <td>36275.000000</td>\n",
       "    </tr>\n",
       "    <tr>\n",
       "      <th>mean</th>\n",
       "      <td>1.844962</td>\n",
       "      <td>0.105279</td>\n",
       "      <td>0.810724</td>\n",
       "      <td>2.204300</td>\n",
       "      <td>0.030986</td>\n",
       "      <td>85.232557</td>\n",
       "      <td>2017.820427</td>\n",
       "      <td>7.423653</td>\n",
       "      <td>15.596995</td>\n",
       "      <td>0.025637</td>\n",
       "      <td>0.023349</td>\n",
       "      <td>0.153411</td>\n",
       "      <td>103.423539</td>\n",
       "      <td>0.619655</td>\n",
       "    </tr>\n",
       "    <tr>\n",
       "      <th>std</th>\n",
       "      <td>0.518715</td>\n",
       "      <td>0.402648</td>\n",
       "      <td>0.870644</td>\n",
       "      <td>1.410905</td>\n",
       "      <td>0.173281</td>\n",
       "      <td>85.930817</td>\n",
       "      <td>0.383836</td>\n",
       "      <td>3.069894</td>\n",
       "      <td>8.740447</td>\n",
       "      <td>0.158053</td>\n",
       "      <td>0.368331</td>\n",
       "      <td>1.754171</td>\n",
       "      <td>35.089424</td>\n",
       "      <td>0.786236</td>\n",
       "    </tr>\n",
       "    <tr>\n",
       "      <th>min</th>\n",
       "      <td>0.000000</td>\n",
       "      <td>0.000000</td>\n",
       "      <td>0.000000</td>\n",
       "      <td>0.000000</td>\n",
       "      <td>0.000000</td>\n",
       "      <td>0.000000</td>\n",
       "      <td>2017.000000</td>\n",
       "      <td>1.000000</td>\n",
       "      <td>1.000000</td>\n",
       "      <td>0.000000</td>\n",
       "      <td>0.000000</td>\n",
       "      <td>0.000000</td>\n",
       "      <td>0.000000</td>\n",
       "      <td>0.000000</td>\n",
       "    </tr>\n",
       "    <tr>\n",
       "      <th>25%</th>\n",
       "      <td>2.000000</td>\n",
       "      <td>0.000000</td>\n",
       "      <td>0.000000</td>\n",
       "      <td>1.000000</td>\n",
       "      <td>0.000000</td>\n",
       "      <td>17.000000</td>\n",
       "      <td>2018.000000</td>\n",
       "      <td>5.000000</td>\n",
       "      <td>8.000000</td>\n",
       "      <td>0.000000</td>\n",
       "      <td>0.000000</td>\n",
       "      <td>0.000000</td>\n",
       "      <td>80.300000</td>\n",
       "      <td>0.000000</td>\n",
       "    </tr>\n",
       "    <tr>\n",
       "      <th>50%</th>\n",
       "      <td>2.000000</td>\n",
       "      <td>0.000000</td>\n",
       "      <td>1.000000</td>\n",
       "      <td>2.000000</td>\n",
       "      <td>0.000000</td>\n",
       "      <td>57.000000</td>\n",
       "      <td>2018.000000</td>\n",
       "      <td>8.000000</td>\n",
       "      <td>16.000000</td>\n",
       "      <td>0.000000</td>\n",
       "      <td>0.000000</td>\n",
       "      <td>0.000000</td>\n",
       "      <td>99.450000</td>\n",
       "      <td>0.000000</td>\n",
       "    </tr>\n",
       "    <tr>\n",
       "      <th>75%</th>\n",
       "      <td>2.000000</td>\n",
       "      <td>0.000000</td>\n",
       "      <td>2.000000</td>\n",
       "      <td>3.000000</td>\n",
       "      <td>0.000000</td>\n",
       "      <td>126.000000</td>\n",
       "      <td>2018.000000</td>\n",
       "      <td>10.000000</td>\n",
       "      <td>23.000000</td>\n",
       "      <td>0.000000</td>\n",
       "      <td>0.000000</td>\n",
       "      <td>0.000000</td>\n",
       "      <td>120.000000</td>\n",
       "      <td>1.000000</td>\n",
       "    </tr>\n",
       "    <tr>\n",
       "      <th>max</th>\n",
       "      <td>4.000000</td>\n",
       "      <td>10.000000</td>\n",
       "      <td>7.000000</td>\n",
       "      <td>17.000000</td>\n",
       "      <td>1.000000</td>\n",
       "      <td>443.000000</td>\n",
       "      <td>2018.000000</td>\n",
       "      <td>12.000000</td>\n",
       "      <td>31.000000</td>\n",
       "      <td>1.000000</td>\n",
       "      <td>13.000000</td>\n",
       "      <td>58.000000</td>\n",
       "      <td>540.000000</td>\n",
       "      <td>5.000000</td>\n",
       "    </tr>\n",
       "  </tbody>\n",
       "</table>\n",
       "</div>"
      ],
      "text/plain": [
       "       no_of_adults  no_of_children  no_of_weekend_nights  no_of_week_nights  \\\n",
       "count  36275.000000    36275.000000          36275.000000       36275.000000   \n",
       "mean       1.844962        0.105279              0.810724           2.204300   \n",
       "std        0.518715        0.402648              0.870644           1.410905   \n",
       "min        0.000000        0.000000              0.000000           0.000000   \n",
       "25%        2.000000        0.000000              0.000000           1.000000   \n",
       "50%        2.000000        0.000000              1.000000           2.000000   \n",
       "75%        2.000000        0.000000              2.000000           3.000000   \n",
       "max        4.000000       10.000000              7.000000          17.000000   \n",
       "\n",
       "       required_car_parking_space     lead_time  arrival_year  arrival_month  \\\n",
       "count                36275.000000  36275.000000  36275.000000   36275.000000   \n",
       "mean                     0.030986     85.232557   2017.820427       7.423653   \n",
       "std                      0.173281     85.930817      0.383836       3.069894   \n",
       "min                      0.000000      0.000000   2017.000000       1.000000   \n",
       "25%                      0.000000     17.000000   2018.000000       5.000000   \n",
       "50%                      0.000000     57.000000   2018.000000       8.000000   \n",
       "75%                      0.000000    126.000000   2018.000000      10.000000   \n",
       "max                      1.000000    443.000000   2018.000000      12.000000   \n",
       "\n",
       "       arrival_date  repeated_guest  no_of_previous_cancellations  \\\n",
       "count  36275.000000    36275.000000                  36275.000000   \n",
       "mean      15.596995        0.025637                      0.023349   \n",
       "std        8.740447        0.158053                      0.368331   \n",
       "min        1.000000        0.000000                      0.000000   \n",
       "25%        8.000000        0.000000                      0.000000   \n",
       "50%       16.000000        0.000000                      0.000000   \n",
       "75%       23.000000        0.000000                      0.000000   \n",
       "max       31.000000        1.000000                     13.000000   \n",
       "\n",
       "       no_of_previous_bookings_not_canceled  avg_price_per_room  \\\n",
       "count                          36275.000000        36275.000000   \n",
       "mean                               0.153411          103.423539   \n",
       "std                                1.754171           35.089424   \n",
       "min                                0.000000            0.000000   \n",
       "25%                                0.000000           80.300000   \n",
       "50%                                0.000000           99.450000   \n",
       "75%                                0.000000          120.000000   \n",
       "max                               58.000000          540.000000   \n",
       "\n",
       "       no_of_special_requests  \n",
       "count            36275.000000  \n",
       "mean                 0.619655  \n",
       "std                  0.786236  \n",
       "min                  0.000000  \n",
       "25%                  0.000000  \n",
       "50%                  0.000000  \n",
       "75%                  1.000000  \n",
       "max                  5.000000  "
      ]
     },
     "execution_count": 5,
     "metadata": {},
     "output_type": "execute_result"
    }
   ],
   "source": [
    "df.describe()  # Show summary statistics to understand the data"
   ]
  },
  {
   "cell_type": "code",
   "execution_count": 6,
   "id": "c231caeb",
   "metadata": {
    "execution": {
     "iopub.execute_input": "2023-07-08T20:51:49.044143Z",
     "iopub.status.busy": "2023-07-08T20:51:49.043703Z",
     "iopub.status.idle": "2023-07-08T20:51:49.083228Z",
     "shell.execute_reply": "2023-07-08T20:51:49.082340Z"
    },
    "papermill": {
     "duration": 0.053769,
     "end_time": "2023-07-08T20:51:49.085927",
     "exception": false,
     "start_time": "2023-07-08T20:51:49.032158",
     "status": "completed"
    },
    "tags": []
   },
   "outputs": [
    {
     "data": {
      "text/plain": [
       "Booking_ID                              0\n",
       "no_of_adults                            0\n",
       "no_of_children                          0\n",
       "no_of_weekend_nights                    0\n",
       "no_of_week_nights                       0\n",
       "type_of_meal_plan                       0\n",
       "required_car_parking_space              0\n",
       "room_type_reserved                      0\n",
       "lead_time                               0\n",
       "arrival_year                            0\n",
       "arrival_month                           0\n",
       "arrival_date                            0\n",
       "market_segment_type                     0\n",
       "repeated_guest                          0\n",
       "no_of_previous_cancellations            0\n",
       "no_of_previous_bookings_not_canceled    0\n",
       "avg_price_per_room                      0\n",
       "no_of_special_requests                  0\n",
       "booking_status                          0\n",
       "dtype: int64"
      ]
     },
     "execution_count": 6,
     "metadata": {},
     "output_type": "execute_result"
    }
   ],
   "source": [
    "df.isnull().sum()  # Check for missing values to understand the data"
   ]
  },
  {
   "cell_type": "markdown",
   "id": "6c0d8f5a",
   "metadata": {
    "papermill": {
     "duration": 0.009229,
     "end_time": "2023-07-08T20:51:49.109070",
     "exception": false,
     "start_time": "2023-07-08T20:51:49.099841",
     "status": "completed"
    },
    "tags": []
   },
   "source": [
    "## Data Preperation"
   ]
  },
  {
   "cell_type": "markdown",
   "id": "f928cbd5",
   "metadata": {
    "papermill": {
     "duration": 0.009136,
     "end_time": "2023-07-08T20:51:49.127737",
     "exception": false,
     "start_time": "2023-07-08T20:51:49.118601",
     "status": "completed"
    },
    "tags": []
   },
   "source": [
    "### One-hot encoding and Label Encoding"
   ]
  },
  {
   "cell_type": "code",
   "execution_count": 7,
   "id": "4519b703",
   "metadata": {
    "execution": {
     "iopub.execute_input": "2023-07-08T20:51:49.150337Z",
     "iopub.status.busy": "2023-07-08T20:51:49.149385Z",
     "iopub.status.idle": "2023-07-08T20:51:49.202475Z",
     "shell.execute_reply": "2023-07-08T20:51:49.201026Z"
    },
    "papermill": {
     "duration": 0.070164,
     "end_time": "2023-07-08T20:51:49.207860",
     "exception": false,
     "start_time": "2023-07-08T20:51:49.137696",
     "status": "completed"
    },
    "tags": []
   },
   "outputs": [],
   "source": [
    "categorical_vars = ['type_of_meal_plan', 'room_type_reserved', 'market_segment_type']\n",
    "df_encoded = pd.get_dummies(df, columns=categorical_vars)\n",
    "label_encoder = LabelEncoder()\n",
    "df_encoded['booking_status'] = label_encoder.fit_transform(df_encoded['booking_status'])"
   ]
  },
  {
   "cell_type": "markdown",
   "id": "a5d89310",
   "metadata": {
    "papermill": {
     "duration": 0.014623,
     "end_time": "2023-07-08T20:51:49.238011",
     "exception": false,
     "start_time": "2023-07-08T20:51:49.223388",
     "status": "completed"
    },
    "tags": []
   },
   "source": [
    "### Split the data into features and target variable"
   ]
  },
  {
   "cell_type": "code",
   "execution_count": 8,
   "id": "3de05499",
   "metadata": {
    "execution": {
     "iopub.execute_input": "2023-07-08T20:51:49.265188Z",
     "iopub.status.busy": "2023-07-08T20:51:49.264282Z",
     "iopub.status.idle": "2023-07-08T20:51:49.273029Z",
     "shell.execute_reply": "2023-07-08T20:51:49.271995Z"
    },
    "papermill": {
     "duration": 0.022685,
     "end_time": "2023-07-08T20:51:49.275402",
     "exception": false,
     "start_time": "2023-07-08T20:51:49.252717",
     "status": "completed"
    },
    "tags": []
   },
   "outputs": [],
   "source": [
    "X = df_encoded.drop(['Booking_ID', 'booking_status'], axis=1)\n",
    "y = df_encoded['booking_status']"
   ]
  },
  {
   "cell_type": "markdown",
   "id": "7b2aa44d",
   "metadata": {
    "papermill": {
     "duration": 0.009579,
     "end_time": "2023-07-08T20:51:49.294675",
     "exception": false,
     "start_time": "2023-07-08T20:51:49.285096",
     "status": "completed"
    },
    "tags": []
   },
   "source": [
    "### Split the data into training and test sets"
   ]
  },
  {
   "cell_type": "code",
   "execution_count": 9,
   "id": "902eb9b7",
   "metadata": {
    "execution": {
     "iopub.execute_input": "2023-07-08T20:51:49.316452Z",
     "iopub.status.busy": "2023-07-08T20:51:49.315935Z",
     "iopub.status.idle": "2023-07-08T20:51:49.340987Z",
     "shell.execute_reply": "2023-07-08T20:51:49.340139Z"
    },
    "papermill": {
     "duration": 0.03956,
     "end_time": "2023-07-08T20:51:49.343915",
     "exception": false,
     "start_time": "2023-07-08T20:51:49.304355",
     "status": "completed"
    },
    "tags": []
   },
   "outputs": [],
   "source": [
    "X_train, X_test, y_train, y_test = train_test_split(X, y, test_size=0.2, random_state=42)"
   ]
  },
  {
   "cell_type": "markdown",
   "id": "fe80e7ea",
   "metadata": {
    "papermill": {
     "duration": 0.009866,
     "end_time": "2023-07-08T20:51:49.368514",
     "exception": false,
     "start_time": "2023-07-08T20:51:49.358648",
     "status": "completed"
    },
    "tags": []
   },
   "source": [
    "### Feature Engineering"
   ]
  },
  {
   "cell_type": "code",
   "execution_count": 10,
   "id": "7a83a847",
   "metadata": {
    "execution": {
     "iopub.execute_input": "2023-07-08T20:51:49.392239Z",
     "iopub.status.busy": "2023-07-08T20:51:49.391521Z",
     "iopub.status.idle": "2023-07-08T20:51:49.403717Z",
     "shell.execute_reply": "2023-07-08T20:51:49.402393Z"
    },
    "papermill": {
     "duration": 0.027463,
     "end_time": "2023-07-08T20:51:49.407316",
     "exception": false,
     "start_time": "2023-07-08T20:51:49.379853",
     "status": "completed"
    },
    "tags": []
   },
   "outputs": [],
   "source": [
    "X_train_fe = X_train.copy()\n",
    "X_test_fe = X_test.copy()\n",
    "\n",
    "X_train_fe['total_nights'] = X_train_fe['no_of_weekend_nights'] + X_train_fe['no_of_week_nights']\n",
    "X_train_fe['total_people'] = X_train_fe['no_of_adults'] + X_train_fe['no_of_children']\n",
    "\n",
    "X_test_fe['total_nights'] = X_test_fe['no_of_weekend_nights'] + X_test_fe['no_of_week_nights']\n",
    "X_test_fe['total_people'] = X_test_fe['no_of_adults'] + X_test_fe['no_of_children']"
   ]
  },
  {
   "cell_type": "markdown",
   "id": "148cbb1c",
   "metadata": {
    "papermill": {
     "duration": 0.009377,
     "end_time": "2023-07-08T20:51:49.427419",
     "exception": false,
     "start_time": "2023-07-08T20:51:49.418042",
     "status": "completed"
    },
    "tags": []
   },
   "source": [
    "## Modeling"
   ]
  },
  {
   "cell_type": "markdown",
   "id": "8de4d730",
   "metadata": {
    "papermill": {
     "duration": 0.009196,
     "end_time": "2023-07-08T20:51:49.446312",
     "exception": false,
     "start_time": "2023-07-08T20:51:49.437116",
     "status": "completed"
    },
    "tags": []
   },
   "source": [
    "### Logistic Regression Model"
   ]
  },
  {
   "cell_type": "code",
   "execution_count": 11,
   "id": "e0f73ec5",
   "metadata": {
    "execution": {
     "iopub.execute_input": "2023-07-08T20:51:49.467538Z",
     "iopub.status.busy": "2023-07-08T20:51:49.466767Z",
     "iopub.status.idle": "2023-07-08T20:51:53.620322Z",
     "shell.execute_reply": "2023-07-08T20:51:53.619185Z"
    },
    "papermill": {
     "duration": 4.16745,
     "end_time": "2023-07-08T20:51:53.623333",
     "exception": false,
     "start_time": "2023-07-08T20:51:49.455883",
     "status": "completed"
    },
    "tags": []
   },
   "outputs": [
    {
     "name": "stdout",
     "output_type": "stream",
     "text": [
      "Logistic regression model accuracy: 0.8017\n"
     ]
    }
   ],
   "source": [
    "logreg = LogisticRegression(max_iter=1000, random_state=42)\n",
    "logreg.fit(X_train, y_train)\n",
    "logreg_pred = logreg.predict(X_test)\n",
    "logreg_train_accuracy = accuracy_score(y_train, logreg.predict(X_train))\n",
    "print(f\"Logistic regression model accuracy: {logreg_train_accuracy:.4f}\")"
   ]
  },
  {
   "cell_type": "markdown",
   "id": "e5bce21b",
   "metadata": {
    "papermill": {
     "duration": 0.01583,
     "end_time": "2023-07-08T20:51:53.656235",
     "exception": false,
     "start_time": "2023-07-08T20:51:53.640405",
     "status": "completed"
    },
    "tags": []
   },
   "source": [
    "### Random Forest Model"
   ]
  },
  {
   "cell_type": "code",
   "execution_count": 12,
   "id": "4c738b36",
   "metadata": {
    "execution": {
     "iopub.execute_input": "2023-07-08T20:51:53.689964Z",
     "iopub.status.busy": "2023-07-08T20:51:53.689432Z",
     "iopub.status.idle": "2023-07-08T20:51:58.328546Z",
     "shell.execute_reply": "2023-07-08T20:51:58.327361Z"
    },
    "papermill": {
     "duration": 4.658883,
     "end_time": "2023-07-08T20:51:58.330973",
     "exception": false,
     "start_time": "2023-07-08T20:51:53.672090",
     "status": "completed"
    },
    "tags": []
   },
   "outputs": [
    {
     "name": "stdout",
     "output_type": "stream",
     "text": [
      "Random forest model accuracy: 0.9940\n"
     ]
    }
   ],
   "source": [
    "rf = RandomForestClassifier(random_state=42)\n",
    "rf.fit(X_train, y_train)\n",
    "rf_pred = rf.predict(X_test)\n",
    "rf_train_accuracy = accuracy_score(y_train, rf.predict(X_train))\n",
    "print(f\"Random forest model accuracy: {rf_train_accuracy:.4f}\")"
   ]
  },
  {
   "cell_type": "markdown",
   "id": "3629bdd0",
   "metadata": {
    "papermill": {
     "duration": 0.009371,
     "end_time": "2023-07-08T20:51:58.350000",
     "exception": false,
     "start_time": "2023-07-08T20:51:58.340629",
     "status": "completed"
    },
    "tags": []
   },
   "source": [
    "### XGBoost Model"
   ]
  },
  {
   "cell_type": "code",
   "execution_count": 13,
   "id": "8b0fa037",
   "metadata": {
    "execution": {
     "iopub.execute_input": "2023-07-08T20:51:58.371075Z",
     "iopub.status.busy": "2023-07-08T20:51:58.370686Z",
     "iopub.status.idle": "2023-07-08T20:52:00.968267Z",
     "shell.execute_reply": "2023-07-08T20:52:00.967061Z"
    },
    "papermill": {
     "duration": 2.610759,
     "end_time": "2023-07-08T20:52:00.970464",
     "exception": false,
     "start_time": "2023-07-08T20:51:58.359705",
     "status": "completed"
    },
    "tags": []
   },
   "outputs": [
    {
     "name": "stdout",
     "output_type": "stream",
     "text": [
      "XGBoost model accuracy: 0.9181\n"
     ]
    }
   ],
   "source": [
    "xgb = XGBClassifier(use_label_encoder=False, eval_metric='logloss', random_state=42)\n",
    "xgb.fit(X_train, y_train)\n",
    "xgb_pred = xgb.predict(X_test)\n",
    "xgb_train_accuracy = accuracy_score(y_train, xgb.predict(X_train))\n",
    "print(f\"XGBoost model accuracy: {xgb_train_accuracy:.4f}\")"
   ]
  },
  {
   "cell_type": "markdown",
   "id": "f35aaed7",
   "metadata": {
    "papermill": {
     "duration": 0.009325,
     "end_time": "2023-07-08T20:52:00.989573",
     "exception": false,
     "start_time": "2023-07-08T20:52:00.980248",
     "status": "completed"
    },
    "tags": []
   },
   "source": [
    "### Hyperparameter Tuning for XGBoost"
   ]
  },
  {
   "cell_type": "code",
   "execution_count": 14,
   "id": "25ce697b",
   "metadata": {
    "execution": {
     "iopub.execute_input": "2023-07-08T20:52:01.010426Z",
     "iopub.status.busy": "2023-07-08T20:52:01.010030Z",
     "iopub.status.idle": "2023-07-08T20:55:19.086837Z",
     "shell.execute_reply": "2023-07-08T20:55:19.085871Z"
    },
    "papermill": {
     "duration": 198.090258,
     "end_time": "2023-07-08T20:55:19.089564",
     "exception": false,
     "start_time": "2023-07-08T20:52:00.999306",
     "status": "completed"
    },
    "tags": []
   },
   "outputs": [],
   "source": [
    "param_grid = {\n",
    "    'learning_rate': [0.01, 0.1],\n",
    "    'max_depth': [3, 6],\n",
    "    'n_estimators': [100, 200],\n",
    "    'subsample': [0.5, 1],\n",
    "    'colsample_bytree': [0.5, 1],\n",
    "}\n",
    "\n",
    "grid_search = GridSearchCV(XGBClassifier(use_label_encoder=False, eval_metric='logloss', random_state=42),\n",
    "                           param_grid, cv=3, scoring='accuracy')\n",
    "\n",
    "grid_search.fit(X_train_fe, y_train)\n",
    "\n",
    "# Get the best parameters\n",
    "best_params = grid_search.best_params_\n"
   ]
  },
  {
   "cell_type": "code",
   "execution_count": 15,
   "id": "bb9b949b",
   "metadata": {
    "execution": {
     "iopub.execute_input": "2023-07-08T20:55:19.111189Z",
     "iopub.status.busy": "2023-07-08T20:55:19.110771Z",
     "iopub.status.idle": "2023-07-08T20:55:19.117106Z",
     "shell.execute_reply": "2023-07-08T20:55:19.115898Z"
    },
    "papermill": {
     "duration": 0.019761,
     "end_time": "2023-07-08T20:55:19.119386",
     "exception": false,
     "start_time": "2023-07-08T20:55:19.099625",
     "status": "completed"
    },
    "tags": []
   },
   "outputs": [
    {
     "name": "stdout",
     "output_type": "stream",
     "text": [
      "{'colsample_bytree': 1, 'learning_rate': 0.1, 'max_depth': 6, 'n_estimators': 200, 'subsample': 1}\n"
     ]
    }
   ],
   "source": [
    "print(best_params)"
   ]
  },
  {
   "cell_type": "markdown",
   "id": "669541a7",
   "metadata": {
    "papermill": {
     "duration": 0.009624,
     "end_time": "2023-07-08T20:55:19.138892",
     "exception": false,
     "start_time": "2023-07-08T20:55:19.129268",
     "status": "completed"
    },
    "tags": []
   },
   "source": [
    "### Train the XGBoost model with the best parameters"
   ]
  },
  {
   "cell_type": "code",
   "execution_count": 16,
   "id": "627104d6",
   "metadata": {
    "execution": {
     "iopub.execute_input": "2023-07-08T20:55:19.160705Z",
     "iopub.status.busy": "2023-07-08T20:55:19.159996Z",
     "iopub.status.idle": "2023-07-08T20:55:24.628926Z",
     "shell.execute_reply": "2023-07-08T20:55:24.627939Z"
    },
    "papermill": {
     "duration": 5.482816,
     "end_time": "2023-07-08T20:55:24.631470",
     "exception": false,
     "start_time": "2023-07-08T20:55:19.148654",
     "status": "completed"
    },
    "tags": []
   },
   "outputs": [
    {
     "name": "stdout",
     "output_type": "stream",
     "text": [
      "XGBoost model accuracy: 0.9181\n"
     ]
    }
   ],
   "source": [
    "xgb_best = XGBClassifier(**best_params, use_label_encoder=False, eval_metric='logloss', random_state=42)\n",
    "xgb_best.fit(X_train_fe, y_train)\n",
    "xgb_best_pred = xgb_best.predict(X_test_fe)\n",
    "xgb_train_accuracy = accuracy_score(y_train, xgb.predict(X_train))\n",
    "print(f\"XGBoost model accuracy: {xgb_train_accuracy:.4f}\")"
   ]
  },
  {
   "cell_type": "markdown",
   "id": "d5061514",
   "metadata": {
    "papermill": {
     "duration": 0.009322,
     "end_time": "2023-07-08T20:55:24.650697",
     "exception": false,
     "start_time": "2023-07-08T20:55:24.641375",
     "status": "completed"
    },
    "tags": []
   },
   "source": [
    "### Overfitting Check"
   ]
  },
  {
   "cell_type": "code",
   "execution_count": 17,
   "id": "6167f511",
   "metadata": {
    "execution": {
     "iopub.execute_input": "2023-07-08T20:55:24.672065Z",
     "iopub.status.busy": "2023-07-08T20:55:24.671096Z",
     "iopub.status.idle": "2023-07-08T20:55:25.735067Z",
     "shell.execute_reply": "2023-07-08T20:55:25.733884Z"
    },
    "papermill": {
     "duration": 1.077194,
     "end_time": "2023-07-08T20:55:25.737527",
     "exception": false,
     "start_time": "2023-07-08T20:55:24.660333",
     "status": "completed"
    },
    "tags": []
   },
   "outputs": [
    {
     "data": {
      "text/html": [
       "<div>\n",
       "<style scoped>\n",
       "    .dataframe tbody tr th:only-of-type {\n",
       "        vertical-align: middle;\n",
       "    }\n",
       "\n",
       "    .dataframe tbody tr th {\n",
       "        vertical-align: top;\n",
       "    }\n",
       "\n",
       "    .dataframe thead th {\n",
       "        text-align: right;\n",
       "    }\n",
       "</style>\n",
       "<table border=\"1\" class=\"dataframe\">\n",
       "  <thead>\n",
       "    <tr style=\"text-align: right;\">\n",
       "      <th></th>\n",
       "      <th>Model</th>\n",
       "      <th>Training Accuracy</th>\n",
       "      <th>Test Accuracy</th>\n",
       "      <th>Difference</th>\n",
       "    </tr>\n",
       "  </thead>\n",
       "  <tbody>\n",
       "    <tr>\n",
       "      <th>0</th>\n",
       "      <td>Logistic Regression</td>\n",
       "      <td>0.801688</td>\n",
       "      <td>0.801930</td>\n",
       "      <td>-0.000241</td>\n",
       "    </tr>\n",
       "    <tr>\n",
       "      <th>1</th>\n",
       "      <td>Random Forest</td>\n",
       "      <td>0.994004</td>\n",
       "      <td>0.905031</td>\n",
       "      <td>0.088973</td>\n",
       "    </tr>\n",
       "    <tr>\n",
       "      <th>2</th>\n",
       "      <td>XGBoost</td>\n",
       "      <td>0.918125</td>\n",
       "      <td>0.891937</td>\n",
       "      <td>0.026189</td>\n",
       "    </tr>\n",
       "  </tbody>\n",
       "</table>\n",
       "</div>"
      ],
      "text/plain": [
       "                 Model  Training Accuracy  Test Accuracy  Difference\n",
       "0  Logistic Regression           0.801688       0.801930   -0.000241\n",
       "1        Random Forest           0.994004       0.905031    0.088973\n",
       "2              XGBoost           0.918125       0.891937    0.026189"
      ]
     },
     "execution_count": 17,
     "metadata": {},
     "output_type": "execute_result"
    }
   ],
   "source": [
    "# Calculate test accuracy for each model\n",
    "logreg_accuracy = accuracy_score(y_test, logreg.predict(X_test))\n",
    "rf_accuracy = accuracy_score(y_test, rf.predict(X_test))\n",
    "xgb_accuracy = accuracy_score(y_test, xgb.predict(X_test))\n",
    "\n",
    "# Calculate training accuracy for each model\n",
    "logreg_train_accuracy = accuracy_score(y_train, logreg.predict(X_train))\n",
    "rf_train_accuracy = accuracy_score(y_train, rf.predict(X_train))\n",
    "xgb_train_accuracy = accuracy_score(y_train, xgb.predict(X_train))\n",
    "\n",
    "# Create a dataframe to hold the results\n",
    "overfitting_check = pd.DataFrame({\n",
    "    'Model': ['Logistic Regression', 'Random Forest', 'XGBoost' ],\n",
    "    'Training Accuracy': [logreg_train_accuracy, rf_train_accuracy, xgb_train_accuracy],\n",
    "    'Test Accuracy': [logreg_accuracy, rf_accuracy, xgb_accuracy]\n",
    "})\n",
    "\n",
    "overfitting_check['Difference'] = overfitting_check['Training Accuracy'] - overfitting_check['Test Accuracy']\n",
    "\n",
    "overfitting_check"
   ]
  },
  {
   "cell_type": "markdown",
   "id": "15ed2ee5",
   "metadata": {
    "papermill": {
     "duration": 0.009507,
     "end_time": "2023-07-08T20:55:25.757040",
     "exception": false,
     "start_time": "2023-07-08T20:55:25.747533",
     "status": "completed"
    },
    "tags": []
   },
   "source": [
    "In summary:\n",
    "- The **Random Forest model** has the highest accuracy on the training data, but it seems to be **overfitting** and performs worse on the test data compared to the other models.\n",
    "- The **XGBoost model** performs slightly worse on the training data but better on the test data, indicating that it **generalizes better** to new data.\n",
    "- The **Logistic Regression model** performs similarly on both the training and test data, indicating **good generalization**, but its overall accuracy is lower than the XGBoost model.\n",
    "\n"
   ]
  },
  {
   "cell_type": "markdown",
   "id": "f4bb4f78",
   "metadata": {
    "papermill": {
     "duration": 0.009552,
     "end_time": "2023-07-08T20:55:25.776814",
     "exception": false,
     "start_time": "2023-07-08T20:55:25.767262",
     "status": "completed"
    },
    "tags": []
   },
   "source": [
    "## Evaluation"
   ]
  },
  {
   "cell_type": "markdown",
   "id": "fc9d4162",
   "metadata": {
    "papermill": {
     "duration": 0.009599,
     "end_time": "2023-07-08T20:55:25.796437",
     "exception": false,
     "start_time": "2023-07-08T20:55:25.786838",
     "status": "completed"
    },
    "tags": []
   },
   "source": [
    "### Confusion Matrix"
   ]
  },
  {
   "cell_type": "code",
   "execution_count": 18,
   "id": "eedcaa15",
   "metadata": {
    "execution": {
     "iopub.execute_input": "2023-07-08T20:55:25.818946Z",
     "iopub.status.busy": "2023-07-08T20:55:25.817699Z",
     "iopub.status.idle": "2023-07-08T20:55:25.827464Z",
     "shell.execute_reply": "2023-07-08T20:55:25.826349Z"
    },
    "papermill": {
     "duration": 0.023131,
     "end_time": "2023-07-08T20:55:25.829602",
     "exception": false,
     "start_time": "2023-07-08T20:55:25.806471",
     "status": "completed"
    },
    "tags": []
   },
   "outputs": [
    {
     "name": "stdout",
     "output_type": "stream",
     "text": [
      "Confusion Matrix:\n",
      "[[1907  509]\n",
      " [ 306 4533]]\n"
     ]
    }
   ],
   "source": [
    "# Compute confusion matrix for the best performing model (XGBoost Best)\n",
    "conf_matrix = confusion_matrix(y_test, xgb_best_pred)\n",
    "print(\"Confusion Matrix:\")\n",
    "print(conf_matrix)"
   ]
  },
  {
   "cell_type": "markdown",
   "id": "6f64ff3a",
   "metadata": {
    "papermill": {
     "duration": 0.00977,
     "end_time": "2023-07-08T20:55:25.849665",
     "exception": false,
     "start_time": "2023-07-08T20:55:25.839895",
     "status": "completed"
    },
    "tags": []
   },
   "source": [
    "### Metrics"
   ]
  },
  {
   "cell_type": "code",
   "execution_count": 19,
   "id": "d51ac912",
   "metadata": {
    "execution": {
     "iopub.execute_input": "2023-07-08T20:55:25.872542Z",
     "iopub.status.busy": "2023-07-08T20:55:25.871404Z",
     "iopub.status.idle": "2023-07-08T20:55:25.894416Z",
     "shell.execute_reply": "2023-07-08T20:55:25.893080Z"
    },
    "papermill": {
     "duration": 0.036685,
     "end_time": "2023-07-08T20:55:25.896516",
     "exception": false,
     "start_time": "2023-07-08T20:55:25.859831",
     "status": "completed"
    },
    "tags": []
   },
   "outputs": [
    {
     "name": "stdout",
     "output_type": "stream",
     "text": [
      "Accuracy: 0.8877\n",
      "Precision: 0.8990\n",
      "Recall: 0.9368\n",
      "F1 Score: 0.9175\n"
     ]
    }
   ],
   "source": [
    "# Compute accuracy, precision, recall, and F1 score\n",
    "accuracy = accuracy_score(y_test, xgb_best_pred)\n",
    "precision = precision_score(y_test, xgb_best_pred)\n",
    "recall = recall_score(y_test, xgb_best_pred)\n",
    "f1 = f1_score(y_test, xgb_best_pred)\n",
    "\n",
    "print(f'Accuracy: {accuracy:.4f}')\n",
    "print(f'Precision: {precision:.4f}')\n",
    "print(f'Recall: {recall:.4f}')\n",
    "print(f'F1 Score: {f1:.4f}')"
   ]
  },
  {
   "cell_type": "code",
   "execution_count": null,
   "id": "b92b6774",
   "metadata": {
    "papermill": {
     "duration": 0.00978,
     "end_time": "2023-07-08T20:55:25.916467",
     "exception": false,
     "start_time": "2023-07-08T20:55:25.906687",
     "status": "completed"
    },
    "tags": []
   },
   "outputs": [],
   "source": []
  }
 ],
 "metadata": {
  "kernelspec": {
   "display_name": "Python 3",
   "language": "python",
   "name": "python3"
  },
  "language_info": {
   "codemirror_mode": {
    "name": "ipython",
    "version": 3
   },
   "file_extension": ".py",
   "mimetype": "text/x-python",
   "name": "python",
   "nbconvert_exporter": "python",
   "pygments_lexer": "ipython3",
   "version": "3.10.10"
  },
  "papermill": {
   "default_parameters": {},
   "duration": 232.160698,
   "end_time": "2023-07-08T20:55:26.950344",
   "environment_variables": {},
   "exception": null,
   "input_path": "__notebook__.ipynb",
   "output_path": "__notebook__.ipynb",
   "parameters": {},
   "start_time": "2023-07-08T20:51:34.789646",
   "version": "2.4.0"
  }
 },
 "nbformat": 4,
 "nbformat_minor": 5
}
